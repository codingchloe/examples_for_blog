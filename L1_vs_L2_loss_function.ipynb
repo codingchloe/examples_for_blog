{
 "cells": [
  {
   "cell_type": "markdown",
   "metadata": {},
   "source": [
    "## L1 Loss function\n",
    "\n",
    "L1 Loss function는 실제 값과 예측 값의 절대값의 차이를 최소화합니다. 각 관측치별 실제값과 예측값의 차이를 더한 값이 L1 Loss function의 결과값입니다. "
   ]
  },
  {
   "cell_type": "markdown",
   "metadata": {},
   "source": [
    "## L2 loss function \n",
    "L2 Loss function은 실제 값과 예측 값의 차이의 제곱을 최소화합니다. "
   ]
  },
  {
   "cell_type": "markdown",
   "metadata": {},
   "source": [
    "위의 식에서 알 수 있듯이 데이터가 극단치(outliers)일수록 L2의 결과값이 L1 대비 크게 나타납니다. 따라서 L2가 L1 대비 outliers에 더 크게 반응하고 이를 최소화 하려고 할 것입니다."
   ]
  },
  {
   "cell_type": "markdown",
   "metadata": {
    "collapsed": true
   },
   "source": [
    "과연 그러한지 샘플 데이터를 통해 확인해보겠습니다. \n",
    "<br />*샘플 데이터는 Kaggle의 Boston Housing Dataset을 활용하였습니다."
   ]
  },
  {
   "cell_type": "code",
   "execution_count": 2,
   "metadata": {
    "collapsed": true
   },
   "outputs": [],
   "source": [
    "import numpy as np\n",
    "import pandas as pd\n",
    "from sklearn.model_selection import train_test_split\n",
    "from sklearn.ensemble import GradientBoostingRegressor\n",
    "from statsmodels.tools.eval_measures import rmse\n",
    "import matplotlib.pylab as plt"
   ]
  },
  {
   "cell_type": "code",
   "execution_count": 3,
   "metadata": {
    "collapsed": true
   },
   "outputs": [],
   "source": [
    "# Read Housing Dataset from kaggle\n",
    "data = pd.read_csv('../sample_data/housingdata.csv')"
   ]
  },
  {
   "cell_type": "code",
   "execution_count": 4,
   "metadata": {},
   "outputs": [
    {
     "data": {
      "text/html": [
       "<div>\n",
       "<style>\n",
       "    .dataframe thead tr:only-child th {\n",
       "        text-align: right;\n",
       "    }\n",
       "\n",
       "    .dataframe thead th {\n",
       "        text-align: left;\n",
       "    }\n",
       "\n",
       "    .dataframe tbody tr th {\n",
       "        vertical-align: top;\n",
       "    }\n",
       "</style>\n",
       "<table border=\"1\" class=\"dataframe\">\n",
       "  <thead>\n",
       "    <tr style=\"text-align: right;\">\n",
       "      <th></th>\n",
       "      <th>crim</th>\n",
       "      <th>zn</th>\n",
       "      <th>indus</th>\n",
       "      <th>chas</th>\n",
       "      <th>nox</th>\n",
       "      <th>rm</th>\n",
       "      <th>age</th>\n",
       "      <th>dis</th>\n",
       "      <th>rad</th>\n",
       "      <th>tax</th>\n",
       "      <th>ptratio</th>\n",
       "      <th>b</th>\n",
       "      <th>lstat</th>\n",
       "      <th>medv</th>\n",
       "    </tr>\n",
       "  </thead>\n",
       "  <tbody>\n",
       "    <tr>\n",
       "      <th>count</th>\n",
       "      <td>506.000000</td>\n",
       "      <td>506.000000</td>\n",
       "      <td>506.000000</td>\n",
       "      <td>506.000000</td>\n",
       "      <td>506.000000</td>\n",
       "      <td>506.000000</td>\n",
       "      <td>506.000000</td>\n",
       "      <td>506.000000</td>\n",
       "      <td>506.000000</td>\n",
       "      <td>506.000000</td>\n",
       "      <td>506.000000</td>\n",
       "      <td>506.000000</td>\n",
       "      <td>506.000000</td>\n",
       "      <td>506.000000</td>\n",
       "    </tr>\n",
       "    <tr>\n",
       "      <th>mean</th>\n",
       "      <td>3.613524</td>\n",
       "      <td>11.363636</td>\n",
       "      <td>11.136779</td>\n",
       "      <td>0.069170</td>\n",
       "      <td>0.554695</td>\n",
       "      <td>6.284634</td>\n",
       "      <td>68.574901</td>\n",
       "      <td>3.795043</td>\n",
       "      <td>9.549407</td>\n",
       "      <td>408.237154</td>\n",
       "      <td>18.455534</td>\n",
       "      <td>356.674032</td>\n",
       "      <td>12.653063</td>\n",
       "      <td>22.532806</td>\n",
       "    </tr>\n",
       "    <tr>\n",
       "      <th>std</th>\n",
       "      <td>8.601545</td>\n",
       "      <td>23.322453</td>\n",
       "      <td>6.860353</td>\n",
       "      <td>0.253994</td>\n",
       "      <td>0.115878</td>\n",
       "      <td>0.702617</td>\n",
       "      <td>28.148861</td>\n",
       "      <td>2.105710</td>\n",
       "      <td>8.707259</td>\n",
       "      <td>168.537116</td>\n",
       "      <td>2.164946</td>\n",
       "      <td>91.294864</td>\n",
       "      <td>7.141062</td>\n",
       "      <td>9.197104</td>\n",
       "    </tr>\n",
       "    <tr>\n",
       "      <th>min</th>\n",
       "      <td>0.006320</td>\n",
       "      <td>0.000000</td>\n",
       "      <td>0.460000</td>\n",
       "      <td>0.000000</td>\n",
       "      <td>0.385000</td>\n",
       "      <td>3.561000</td>\n",
       "      <td>2.900000</td>\n",
       "      <td>1.129600</td>\n",
       "      <td>1.000000</td>\n",
       "      <td>187.000000</td>\n",
       "      <td>12.600000</td>\n",
       "      <td>0.320000</td>\n",
       "      <td>1.730000</td>\n",
       "      <td>5.000000</td>\n",
       "    </tr>\n",
       "    <tr>\n",
       "      <th>25%</th>\n",
       "      <td>0.082045</td>\n",
       "      <td>0.000000</td>\n",
       "      <td>5.190000</td>\n",
       "      <td>0.000000</td>\n",
       "      <td>0.449000</td>\n",
       "      <td>5.885500</td>\n",
       "      <td>45.025000</td>\n",
       "      <td>2.100175</td>\n",
       "      <td>4.000000</td>\n",
       "      <td>279.000000</td>\n",
       "      <td>17.400000</td>\n",
       "      <td>375.377500</td>\n",
       "      <td>6.950000</td>\n",
       "      <td>17.025000</td>\n",
       "    </tr>\n",
       "    <tr>\n",
       "      <th>50%</th>\n",
       "      <td>0.256510</td>\n",
       "      <td>0.000000</td>\n",
       "      <td>9.690000</td>\n",
       "      <td>0.000000</td>\n",
       "      <td>0.538000</td>\n",
       "      <td>6.208500</td>\n",
       "      <td>77.500000</td>\n",
       "      <td>3.207450</td>\n",
       "      <td>5.000000</td>\n",
       "      <td>330.000000</td>\n",
       "      <td>19.050000</td>\n",
       "      <td>391.440000</td>\n",
       "      <td>11.360000</td>\n",
       "      <td>21.200000</td>\n",
       "    </tr>\n",
       "    <tr>\n",
       "      <th>75%</th>\n",
       "      <td>3.677082</td>\n",
       "      <td>12.500000</td>\n",
       "      <td>18.100000</td>\n",
       "      <td>0.000000</td>\n",
       "      <td>0.624000</td>\n",
       "      <td>6.623500</td>\n",
       "      <td>94.075000</td>\n",
       "      <td>5.188425</td>\n",
       "      <td>24.000000</td>\n",
       "      <td>666.000000</td>\n",
       "      <td>20.200000</td>\n",
       "      <td>396.225000</td>\n",
       "      <td>16.955000</td>\n",
       "      <td>25.000000</td>\n",
       "    </tr>\n",
       "    <tr>\n",
       "      <th>max</th>\n",
       "      <td>88.976200</td>\n",
       "      <td>100.000000</td>\n",
       "      <td>27.740000</td>\n",
       "      <td>1.000000</td>\n",
       "      <td>0.871000</td>\n",
       "      <td>8.780000</td>\n",
       "      <td>100.000000</td>\n",
       "      <td>12.126500</td>\n",
       "      <td>24.000000</td>\n",
       "      <td>711.000000</td>\n",
       "      <td>22.000000</td>\n",
       "      <td>396.900000</td>\n",
       "      <td>37.970000</td>\n",
       "      <td>50.000000</td>\n",
       "    </tr>\n",
       "  </tbody>\n",
       "</table>\n",
       "</div>"
      ],
      "text/plain": [
       "             crim          zn       indus        chas         nox          rm  \\\n",
       "count  506.000000  506.000000  506.000000  506.000000  506.000000  506.000000   \n",
       "mean     3.613524   11.363636   11.136779    0.069170    0.554695    6.284634   \n",
       "std      8.601545   23.322453    6.860353    0.253994    0.115878    0.702617   \n",
       "min      0.006320    0.000000    0.460000    0.000000    0.385000    3.561000   \n",
       "25%      0.082045    0.000000    5.190000    0.000000    0.449000    5.885500   \n",
       "50%      0.256510    0.000000    9.690000    0.000000    0.538000    6.208500   \n",
       "75%      3.677082   12.500000   18.100000    0.000000    0.624000    6.623500   \n",
       "max     88.976200  100.000000   27.740000    1.000000    0.871000    8.780000   \n",
       "\n",
       "              age         dis         rad         tax     ptratio           b  \\\n",
       "count  506.000000  506.000000  506.000000  506.000000  506.000000  506.000000   \n",
       "mean    68.574901    3.795043    9.549407  408.237154   18.455534  356.674032   \n",
       "std     28.148861    2.105710    8.707259  168.537116    2.164946   91.294864   \n",
       "min      2.900000    1.129600    1.000000  187.000000   12.600000    0.320000   \n",
       "25%     45.025000    2.100175    4.000000  279.000000   17.400000  375.377500   \n",
       "50%     77.500000    3.207450    5.000000  330.000000   19.050000  391.440000   \n",
       "75%     94.075000    5.188425   24.000000  666.000000   20.200000  396.225000   \n",
       "max    100.000000   12.126500   24.000000  711.000000   22.000000  396.900000   \n",
       "\n",
       "            lstat        medv  \n",
       "count  506.000000  506.000000  \n",
       "mean    12.653063   22.532806  \n",
       "std      7.141062    9.197104  \n",
       "min      1.730000    5.000000  \n",
       "25%      6.950000   17.025000  \n",
       "50%     11.360000   21.200000  \n",
       "75%     16.955000   25.000000  \n",
       "max     37.970000   50.000000  "
      ]
     },
     "execution_count": 4,
     "metadata": {},
     "output_type": "execute_result"
    }
   ],
   "source": [
    "# See how the data looks like\n",
    "data.describe()"
   ]
  },
  {
   "cell_type": "code",
   "execution_count": 6,
   "metadata": {},
   "outputs": [
    {
     "data": {
      "text/plain": [
       "(array([  0.,   0.,   0.,   0.,   0.,   3.,   1.,   7.,  10.,   3.,  10.,\n",
       "          9.,   9.,  24.,  18.,  16.,  16.,  22.,  25.,  37.,  36.,  31.,\n",
       "         35.,  37.,  25.,  11.,   8.,   9.,  10.,  10.,   7.,   8.,   7.,\n",
       "          9.,   5.,   4.,   6.,   5.,   1.,   1.,   0.,   2.,   2.,   3.,\n",
       "          2.,   1.,   2.,   0.,   3.,  16.]),\n",
       " array([  0.,   1.,   2.,   3.,   4.,   5.,   6.,   7.,   8.,   9.,  10.,\n",
       "         11.,  12.,  13.,  14.,  15.,  16.,  17.,  18.,  19.,  20.,  21.,\n",
       "         22.,  23.,  24.,  25.,  26.,  27.,  28.,  29.,  30.,  31.,  32.,\n",
       "         33.,  34.,  35.,  36.,  37.,  38.,  39.,  40.,  41.,  42.,  43.,\n",
       "         44.,  45.,  46.,  47.,  48.,  49.,  50.]),\n",
       " <a list of 50 Patch objects>)"
      ]
     },
     "execution_count": 6,
     "metadata": {},
     "output_type": "execute_result"
    }
   ],
   "source": [
    "# Check the distribution of 'medv'(our y)\n",
    "fig = plt.figure(figsize=(13,7))\n",
    "plt.hist(data['medv'], bins=50, range = (0, 50))\n",
    "#fig.suptitle('medv Count', fontsize = 20)\n",
    "#plt.xlabel('medv', fontsize = 16)\n",
    "#plt.ylabel('count', fontsize = 16)"
   ]
  },
  {
   "cell_type": "code",
   "execution_count": 30,
   "metadata": {
    "collapsed": true
   },
   "outputs": [],
   "source": [
    "# Create a data frame with all the independent features\n",
    "x = data.drop('medv', axis = 1)\n",
    "\n",
    "# Create a target vector(vector of dependent variable, i.e. 'medv')\n",
    "y = data['medv']\n",
    "\n",
    "# Split data into training and test sets\n",
    "train_X, test_X, train_y, test_y = train_test_split(x, y,\n",
    "                                                    test_size = 0.30,\n",
    "                                                    random_state = None)"
   ]
  },
  {
   "cell_type": "code",
   "execution_count": 31,
   "metadata": {},
   "outputs": [
    {
     "data": {
      "text/plain": [
       "4.8180905184817737"
      ]
     },
     "execution_count": 31,
     "metadata": {},
     "output_type": "execute_result"
    }
   ],
   "source": [
    "# So let's fit a GradientBoostingRegressor with a L1(Least Absolute Deviation) loss function\n",
    "np.random.seed(9876)\n",
    "\n",
    "# A GradientBoostingRegressor with L1(Least Absolute Deviation) as the loss function\n",
    "mod = GradientBoostingRegressor(loss='lad')\n",
    "\n",
    "fit = mod.fit(train_X, train_y)\n",
    "predict = fit.predict(test_X)\n",
    "\n",
    "# Root Mean Squared Error\n",
    "rmse(predict, test_y)"
   ]
  },
  {
   "cell_type": "code",
   "execution_count": 32,
   "metadata": {},
   "outputs": [
    {
     "data": {
      "text/plain": [
       "3.6939988405861159"
      ]
     },
     "execution_count": 32,
     "metadata": {},
     "output_type": "execute_result"
    }
   ],
   "source": [
    "# A GradientBoostingRegressor with L2(Least Squares) as the loss function\n",
    "mod = GradientBoostingRegressor(loss='ls')\n",
    "\n",
    "fit = mod.fit(train_X, train_y)\n",
    "predict = fit.predict(test_X)\n",
    "\n",
    "# Root Mean Squared Error\n",
    "rmse(predict, test_y)"
   ]
  },
  {
   "cell_type": "markdown",
   "metadata": {},
   "source": [
    "### Outlier가 심하지 않은 데이터셋에서의 L1 loss function과 L2 loss function의 RMSE는 각각 3.2440, 2.8018로 나타납니다. \n",
    "### 우리의 예상대로라면 outlier가 더 큰 데이터셋에서는 L2의 결과값이 L1보다 크게 나올 것입니다. "
   ]
  },
  {
   "cell_type": "code",
   "execution_count": 33,
   "metadata": {
    "collapsed": true
   },
   "outputs": [],
   "source": [
    "##then let's make the distribution that has more outliers\n",
    "min_y = data.describe().loc[['min'],:].drop('medv', axis = 1)\n",
    "max_y = data.describe().loc[['max'],:].drop('medv', axis = 1)"
   ]
  },
  {
   "cell_type": "code",
   "execution_count": 34,
   "metadata": {},
   "outputs": [
    {
     "data": {
      "text/plain": [
       "array([[  1.70457825e+01,   1.91519450e+01,   5.68465061e+00,\n",
       "          0.00000000e+00,   4.78078453e-01,   4.56054001e+00,\n",
       "          2.14965386e+01,   3.23572024e+00,   5.00000000e+00,\n",
       "          2.87000000e+02,   1.44002828e+01,   7.62727836e+01,\n",
       "          8.67066488e+00],\n",
       "       [  5.53552627e+01,   6.22108771e+01,   1.74311273e+01,\n",
       "          1.00000000e+00,   6.87344863e-01,   6.80778568e+00,\n",
       "          6.33067617e+01,   7.97086794e+00,   1.50000000e+01,\n",
       "          5.13000000e+02,   1.84478224e+01,   2.47035896e+02,\n",
       "          2.42752219e+01],\n",
       "       [  3.89509044e+01,   4.37727739e+01,   1.24012127e+01,\n",
       "          0.00000000e+00,   5.97735681e-01,   5.84550107e+00,\n",
       "          4.54033635e+01,   5.94324817e+00,   1.10000000e+01,\n",
       "          4.16000000e+02,   1.67146407e+01,   1.73914067e+02,\n",
       "          1.75932533e+01],\n",
       "       [  6.98795789e+01,   7.85358584e+01,   2.18845822e+01,\n",
       "          1.00000000e+00,   7.66684272e-01,   7.65978645e+00,\n",
       "          7.91583185e+01,   9.76610981e+00,   1.90000000e+01,\n",
       "          5.99000000e+02,   1.99823707e+01,   3.11777507e+02,\n",
       "          3.01913951e+01],\n",
       "       [  6.94006741e+01,   7.79975808e+01,   2.17377400e+01,\n",
       "          1.00000000e+00,   7.64068243e-01,   7.63169374e+00,\n",
       "          7.86356510e+01,   9.70691596e+00,   1.90000000e+01,\n",
       "          5.96000000e+02,   1.99317726e+01,   3.09642806e+02,\n",
       "          2.99963233e+01]])"
      ]
     },
     "execution_count": 34,
     "metadata": {},
     "output_type": "execute_result"
    }
   ],
   "source": [
    "np.random.seed(1234)\n",
    "\n",
    "# Create 10 random values \n",
    "rands = np.random.rand(5, 1)\n",
    "rands\n",
    "\n",
    "# Get the 'min' and 'max' rows as numpy array\n",
    "min_array = np.array(min_y)\n",
    "max_array = np.array(max_y)\n",
    "\n",
    "# Find the difference(range) of 'max' and 'min'\n",
    "_range = max_array - min_array\n",
    "\n",
    "# Generate 5 samples with 'rands' value\n",
    "outliers_X = (rands * _range) + min_array\n",
    "# Change the type of 'chas', 'rad' and 'tax' to rounded of Integers\n",
    "outliers_X[:, [3, 8, 9]] = np.int64(np.round(outliers_X[:, [3, 8, 9]]))\n",
    "outliers_X"
   ]
  },
  {
   "cell_type": "code",
   "execution_count": 35,
   "metadata": {},
   "outputs": [
    {
     "data": {
      "text/plain": [
       "array([  0,   0, 800, 700, 600])"
      ]
     },
     "execution_count": 35,
     "metadata": {},
     "output_type": "execute_result"
    }
   ],
   "source": [
    "# We will also create some hard coded outliers\n",
    "# for 'medv', i.e. our target\n",
    "medv_outliers = np.array([0, 0, 800, 700, 600])\n",
    "medv_outliers"
   ]
  },
  {
   "cell_type": "code",
   "execution_count": 36,
   "metadata": {},
   "outputs": [
    {
     "data": {
      "text/plain": [
       "(array([  91.,  224.,   41.,    0.,    0.,    0.,    0.,    0.,    0.,\n",
       "           0.,    0.,    0.,    0.,    0.,    0.,    0.,    0.,    0.,\n",
       "           0.,    0.,    0.,    0.,    0.,    0.,    0.,    0.,    0.,\n",
       "           0.,    0.,    0.,    0.,    0.,    0.,    0.,    0.,    1.,\n",
       "           0.,    0.,    0.,    0.,    0.,    1.,    0.,    0.,    0.,\n",
       "           0.,    0.,    1.,    0.,    0.]),\n",
       " array([   0.,   17.,   34.,   51.,   68.,   85.,  102.,  119.,  136.,\n",
       "         153.,  170.,  187.,  204.,  221.,  238.,  255.,  272.,  289.,\n",
       "         306.,  323.,  340.,  357.,  374.,  391.,  408.,  425.,  442.,\n",
       "         459.,  476.,  493.,  510.,  527.,  544.,  561.,  578.,  595.,\n",
       "         612.,  629.,  646.,  663.,  680.,  697.,  714.,  731.,  748.,\n",
       "         765.,  782.,  799.,  816.,  833.,  850.]),\n",
       " <a list of 50 Patch objects>)"
      ]
     },
     "execution_count": 36,
     "metadata": {},
     "output_type": "execute_result"
    }
   ],
   "source": [
    "# Finally concatenate our existing 'train_X' and\n",
    "# 'train_y' with these outliers\n",
    "train_X = np.append(train_X, outliers_X, axis = 0)\n",
    "train_y = np.append(train_y, medv_outliers, axis = 0)\n",
    "\n",
    "# Plot a histogram of 'medv' in train_y\n",
    "fig = plt.figure(figsize=(13,7))\n",
    "plt.hist(train_y, bins=50, range = (0, 850))\n",
    "#fig.suptitle('medv Count', fontsize = 20)\n",
    "#plt.xlabel('medv', fontsize = 16)\n",
    "#plt.ylabel('count', fontsize = 16)"
   ]
  },
  {
   "cell_type": "code",
   "execution_count": null,
   "metadata": {
    "collapsed": true
   },
   "outputs": [],
   "source": []
  },
  {
   "cell_type": "code",
   "execution_count": null,
   "metadata": {
    "collapsed": true
   },
   "outputs": [],
   "source": [
    "\n"
   ]
  },
  {
   "cell_type": "code",
   "execution_count": 37,
   "metadata": {},
   "outputs": [
    {
     "data": {
      "text/plain": [
       "4.9276800806620722"
      ]
     },
     "execution_count": 37,
     "metadata": {},
     "output_type": "execute_result"
    }
   ],
   "source": [
    "# GradientBoostingRegressor with L1 loss function\n",
    "np.random.seed(9876)\n",
    "\n",
    "mod = GradientBoostingRegressor(loss='lad')\n",
    "\n",
    "fit = mod.fit(train_X, train_y)\n",
    "predict = fit.predict(test_X)\n",
    "\n",
    "# Root Mean Squared Error\n",
    "rmse(predict, test_y)"
   ]
  },
  {
   "cell_type": "code",
   "execution_count": 38,
   "metadata": {},
   "outputs": [
    {
     "data": {
      "text/plain": [
       "95.081063278596588"
      ]
     },
     "execution_count": 38,
     "metadata": {},
     "output_type": "execute_result"
    }
   ],
   "source": [
    "# GradientBoostingRegressor with L2 loss function\n",
    "mod = GradientBoostingRegressor(loss='ls')\n",
    "\n",
    "fit = mod.fit(train_X, train_y)\n",
    "predict = fit.predict(test_X)\n",
    "\n",
    "# Root Mean Squared Error\n",
    "rmse(predict, test_y)"
   ]
  },
  {
   "cell_type": "code",
   "execution_count": 39,
   "metadata": {
    "collapsed": true
   },
   "outputs": [],
   "source": [
    "fig = plt.figure(figsize=(13,7))\n",
    "#plt.hist(data['medv'], bins=50, range = (0, 50))"
   ]
  },
  {
   "cell_type": "code",
   "execution_count": 40,
   "metadata": {},
   "outputs": [
    {
     "data": {
      "text/plain": [
       "<matplotlib.figure.Figure at 0x11ac17d30>"
      ]
     },
     "execution_count": 40,
     "metadata": {},
     "output_type": "execute_result"
    }
   ],
   "source": [
    "fig"
   ]
  },
  {
   "cell_type": "code",
   "execution_count": 41,
   "metadata": {},
   "outputs": [
    {
     "data": {
      "text/plain": [
       "(array([  0.,   0.,   0.,   0.,   0.,   3.,   1.,   7.,  10.,   3.,  10.,\n",
       "          9.,   9.,  24.,  18.,  16.,  16.,  22.,  25.,  37.,  36.,  31.,\n",
       "         35.,  37.,  25.,  11.,   8.,   9.,  10.,  10.,   7.,   8.,   7.,\n",
       "          9.,   5.,   4.,   6.,   5.,   1.,   1.,   0.,   2.,   2.,   3.,\n",
       "          2.,   1.,   2.,   0.,   3.,  16.]),\n",
       " array([  0.,   1.,   2.,   3.,   4.,   5.,   6.,   7.,   8.,   9.,  10.,\n",
       "         11.,  12.,  13.,  14.,  15.,  16.,  17.,  18.,  19.,  20.,  21.,\n",
       "         22.,  23.,  24.,  25.,  26.,  27.,  28.,  29.,  30.,  31.,  32.,\n",
       "         33.,  34.,  35.,  36.,  37.,  38.,  39.,  40.,  41.,  42.,  43.,\n",
       "         44.,  45.,  46.,  47.,  48.,  49.,  50.]),\n",
       " <a list of 50 Patch objects>)"
      ]
     },
     "execution_count": 41,
     "metadata": {},
     "output_type": "execute_result"
    }
   ],
   "source": [
    "plt.hist(data['medv'], bins=50, range = (0, 50))"
   ]
  },
  {
   "cell_type": "code",
   "execution_count": null,
   "metadata": {
    "collapsed": true
   },
   "outputs": [],
   "source": []
  }
 ],
 "metadata": {
  "kernelspec": {
   "display_name": "Python 3",
   "language": "python",
   "name": "python3"
  },
  "language_info": {
   "codemirror_mode": {
    "name": "ipython",
    "version": 3
   },
   "file_extension": ".py",
   "mimetype": "text/x-python",
   "name": "python",
   "nbconvert_exporter": "python",
   "pygments_lexer": "ipython3",
   "version": "3.6.3"
  }
 },
 "nbformat": 4,
 "nbformat_minor": 2
}
